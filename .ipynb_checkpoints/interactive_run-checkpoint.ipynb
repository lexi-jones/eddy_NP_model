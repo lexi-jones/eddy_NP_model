{
 "cells": [
  {
   "cell_type": "markdown",
   "id": "0a8eb85e",
   "metadata": {},
   "source": [
    "# Interactive Run\n",
    "\n",
    "Using bits of 'run_eddy_NP_model.py' to make figures on the cluster in the notebook."
   ]
  },
  {
   "cell_type": "code",
   "execution_count": 1,
   "id": "3cbc9705",
   "metadata": {},
   "outputs": [],
   "source": [
    "import numpy as np\n",
    "%matplotlib inline\n",
    "import matplotlib.pyplot as plt\n",
    "from matplotlib.animation import FuncAnimation\n",
    "from IPython.display import HTML\n",
    "from eddy_NP_model_functions import reformat_1D_to_2D,FE_upwind_2D_adv_diff_eddy_NP_model,FE_upwind_2D_adv_diff_eddy_NPP_model,animate_eddy_NP_sim,concentration_sum_fig"
   ]
  },
  {
   "cell_type": "code",
   "execution_count": 2,
   "id": "72d7db90",
   "metadata": {},
   "outputs": [],
   "source": [
    "# Experimental variables\n",
    "P_combo = 'SLu' # 'S', 'L', 'SLu', or 'SLe'\n",
    "alter_vort = 0 # 0 (coherent) or 1 (leaky)\n",
    "death_rate = 0.5 #d^-1"
   ]
  },
  {
   "cell_type": "code",
   "execution_count": null,
   "id": "28e994a4",
   "metadata": {},
   "outputs": [
    {
     "name": "stdout",
     "output_type": "stream",
     "text": [
      "0\n"
     ]
    }
   ],
   "source": [
    "# Set up grid and time stepping\n",
    "Lx,Ly = 50,50 # Lx & Ly are the dimensions of psi, so the tracer has dimension (Lx-1,Ly-1)\n",
    "del_x,del_y,del_t = 2000,2000,3000\n",
    "num_steps = 100#2419 ######## EDDY PEAKS @ 6 WEEKS = 1209 timesteps, EDDY DIES @ 12 WEEKS = 2419 timesteps\n",
    "\n",
    "all_P = [] # will hold the data for each of the phytoplankton\n",
    "if (P_combo == 'S') or (P_combo == 'L'): # one phytoplankton\n",
    "    numP = 1\n",
    "    P_mat,N_mat,psi_mat,N_star,P_star = FE_upwind_2D_adv_diff_eddy_NP_model(Lx,Ly,del_x,del_y,del_t,num_steps,alter_vort,P_combo,death_rate)\n",
    "    P_2D = reformat_1D_to_2D(P_mat,Lx-1,Ly-1)\n",
    "    all_P.append(P_2D)\n",
    "    P_stars = [P_star] #array used for setting max value in figures\n",
    "    if (P_combo == 'S'):\n",
    "        size = ['Small'] #array used for figure-making\n",
    "    elif (P_combo == 'L'):\n",
    "        size = ['Large']\n",
    "\n",
    "elif (P_combo == 'SLu') or (P_combo == 'SLe'): # two phytoplankton\n",
    "    numP = 2\n",
    "    PL_mat,PS_mat,N_mat,psi_mat,N_star,P_star_S,P_star_L = FE_upwind_2D_adv_diff_eddy_NPP_model(Lx,Ly,del_x,del_y,del_t,num_steps,alter_vort,P_combo,death_rate)\n",
    "    PS_2D = reformat_1D_to_2D(PS_mat,Lx-1,Ly-1)\n",
    "    PL_2D = reformat_1D_to_2D(PL_mat,Lx-1,Ly-1)\n",
    "    all_P.append(PS_2D)\n",
    "    all_P.append(PL_2D)\n",
    "    P_stars = [P_star_S,P_star_L] #array used for setting max value in figures\n",
    "    size = ['Small','Large'] #array used for figure-making\n",
    "\n",
    "N_2D = reformat_1D_to_2D(N_mat,Lx-1,Ly-1)\n",
    "psi_2D = reformat_1D_to_2D(psi_mat,Lx,Ly)"
   ]
  },
  {
   "cell_type": "code",
   "execution_count": null,
   "id": "1b7563a4",
   "metadata": {},
   "outputs": [],
   "source": [
    "anim = animate_eddy_NP_sim(Lx,Ly,del_x,del_y,del_t,5,2,size,psi_2D,all_P,N_2D)\n",
    "plt.close(anim._fig)\n",
    "HTML(anim.to_html5_video())\n",
    "\n",
    "#anim.save('./animations/NPP_%s_%s_eddy.gif'%(P_combo,eddy_type))"
   ]
  },
  {
   "cell_type": "code",
   "execution_count": null,
   "id": "db934db9",
   "metadata": {},
   "outputs": [],
   "source": [
    "plt = concentration_sum_fig(2,del_t,psi_2D,all_P,N_2D)\n",
    "plt.show()\n",
    "\n",
    "#plt.savefig('./figs/NPP_conc_sum_%s_%s_eddy.png'%(P_combo,eddy_type))"
   ]
  },
  {
   "cell_type": "code",
   "execution_count": null,
   "id": "c4607164",
   "metadata": {},
   "outputs": [],
   "source": []
  }
 ],
 "metadata": {
  "kernelspec": {
   "display_name": "Python 3 (ipykernel)",
   "language": "python",
   "name": "python3"
  },
  "language_info": {
   "codemirror_mode": {
    "name": "ipython",
    "version": 3
   },
   "file_extension": ".py",
   "mimetype": "text/x-python",
   "name": "python",
   "nbconvert_exporter": "python",
   "pygments_lexer": "ipython3",
   "version": "3.9.12"
  }
 },
 "nbformat": 4,
 "nbformat_minor": 5
}
